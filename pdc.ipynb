{
 "cells": [
  {
   "cell_type": "markdown",
   "id": "8b3d5084-8bab-41b5-ba6b-e0f16d18dd2c",
   "metadata": {},
   "source": [
    "# Starscape marketplace resource demand"
   ]
  },
  {
   "cell_type": "markdown",
   "id": "065ce13e-8e9a-408a-91ff-708f192098d5",
   "metadata": {},
   "source": [
    "in the in-game marketplace for Starscape, a game that's kind of like Eve Online, there's a central marketplace where players can buy and sell items.\n",
    "\n",
    "In normal economics, there's a concept of \"price-demand curve\" where, as demand for a thing changes, its price changes accordingly. I wanted to see if this was also reflected in this game's market."
   ]
  },
  {
   "cell_type": "markdown",
   "id": "366c5fb2-e085-452d-806f-69c2683a8d34",
   "metadata": {},
   "source": [
    "Players can create market orders with the following specifications:\n",
    "* buy or sell order (offer to buy or sell an item)\n",
    "* item name\n",
    "* price\n",
    "* quanitity\n"
   ]
  },
  {
   "cell_type": "code",
   "execution_count": 79,
   "id": "pending-tamil",
   "metadata": {},
   "outputs": [],
   "source": [
    "import pandas as pd"
   ]
  },
  {
   "cell_type": "code",
   "execution_count": 80,
   "id": "equivalent-provider",
   "metadata": {},
   "outputs": [],
   "source": [
    "import math "
   ]
  },
  {
   "cell_type": "code",
   "execution_count": 81,
   "id": "protected-blame",
   "metadata": {},
   "outputs": [],
   "source": [
    "import datetime as datetime"
   ]
  },
  {
   "cell_type": "markdown",
   "id": "0f804efa-1561-46f5-8f8e-89308e995422",
   "metadata": {},
   "source": [
    "Some mad scientist has created a bot which periodically scans each market order and puts its information into a database.\n",
    "\n",
    "For example, a row in the database would contain:   \n",
    "* id: a serial number assigned to each scan (irrelevant)    \n",
    "* user id: the ID number of the user who placed the order. Each user can only have 1 order for a particular item active at a time.    \n",
    "* resource: the name of the resouce (in this case, it is \"axnit,\" a that is used in making many items)    \n",
    "* location: the location the order was placed (irrelevant, as 99% of all activity happens in one place anyway)    \n",
    "* price: the price that the user is buying/selling the item at    \n",
    "* date: the year, month, day, minute, and second the scan was taken (UTC)"
   ]
  },
  {
   "cell_type": "code",
   "execution_count": 132,
   "id": "anonymous-equity",
   "metadata": {},
   "outputs": [],
   "source": [
    "axnit = pd.read_csv(\"C:/file_path/axnit_all.csv\")"
   ]
  },
  {
   "cell_type": "markdown",
   "id": "3cf48041-ab41-45f7-9e18-6b6c600f4d28",
   "metadata": {},
   "source": [
    "Some shortcomings of this data:\n",
    "\n",
    "* The bot works with machine vision instead of reading the game data directly\n",
    "    * This is to prevent the bot from being banned\n",
    "    * However, it also means the data is not 100% correct\n",
    "    * The bot maker has told me that the data I am using is correct about 90% of the time\n",
    "        * Bad data is not removed, leaving us to do it, if neccessary\n",
    "* It is impossible to tell who fulfills an order\n",
    "    * This makes it so that we cannot tell between a person cancelling their order or their order being filled\n",
    "    * *However, we can still see the order status change over time*"
   ]
  },
  {
   "cell_type": "markdown",
   "id": "1dbbcd96-496b-4b9e-857c-aa61e836f843",
   "metadata": {},
   "source": [
    "To track demand, I am going to look at how fast items get bought at the various price points.\n",
    "\n",
    "Since it's impossible to directly see how much of any item was sold at any time, it instead has to be inferred by looking at the changes in the quantity of the available sell orders."
   ]
  },
  {
   "cell_type": "markdown",
   "id": "7a86840b-6740-4760-9fc9-5a8c713f7bed",
   "metadata": {},
   "source": [
    "# preparing data"
   ]
  },
  {
   "cell_type": "markdown",
   "id": "3bd5e08f-b403-4219-bb83-a03e400d8d59",
   "metadata": {},
   "source": [
    "so these lines are going to take the lowest price sell order (as an indicator of market price) \n",
    "and seperates them into \"bestbuyrows\""
   ]
  },
  {
   "cell_type": "code",
   "execution_count": 134,
   "id": "first-repository",
   "metadata": {},
   "outputs": [],
   "source": [
    "bestbuyidx = axnit[axnit.type==\"sell\"].groupby([\"dt\"]).price.idxmin()"
   ]
  },
  {
   "cell_type": "code",
   "execution_count": 135,
   "id": "focused-transmission",
   "metadata": {},
   "outputs": [],
   "source": [
    "bestbuyrows = axnit.loc[bestbuyidx]"
   ]
  },
  {
   "cell_type": "markdown",
   "id": "ef0ae35c-f4eb-437d-9c35-b272e0ee3f6c",
   "metadata": {},
   "source": [
    "these two lines below are to let me track changes in volume between scans of the listing\n",
    "if \"prevprice\" and \"prevuserid\" are true, then the order in that row must have been the same one as the one before \n",
    "\n",
    "why does this matter? if the same order remains the one with the best price between two snapsots,\n",
    "it means we can look at it to see if its quantity has changed"
   ]
  },
  {
   "cell_type": "code",
   "execution_count": 137,
   "id": "controversial-vertex",
   "metadata": {},
   "outputs": [],
   "source": [
    "bestbuyrows[\"prevprice\"] = bestbuyrows.price.shift(1)"
   ]
  },
  {
   "cell_type": "code",
   "execution_count": 138,
   "id": "sustained-genetics",
   "metadata": {},
   "outputs": [],
   "source": [
    "bestbuyrows[\"prevuserid\"] = bestbuyrows.user_id.shift(1)"
   ]
  },
  {
   "cell_type": "code",
   "execution_count": 139,
   "id": "opposite-cargo",
   "metadata": {},
   "outputs": [],
   "source": [
    "bestbuyrows[\"issameorder\"] = ( bestbuyrows.user_id == bestbuyrows.prevuserid ) & (bestbuyrows.price == bestbuyrows.prevprice)"
   ]
  },
  {
   "cell_type": "markdown",
   "id": "b10f5f0a-21ac-433f-bbd2-fba4f12b3295",
   "metadata": {},
   "source": [
    "\"changeinqty\" is the change in order wty between this order and the last one \n",
    "i.e. the amount sold between the two scans"
   ]
  },
  {
   "cell_type": "code",
   "execution_count": 141,
   "id": "tight-signal",
   "metadata": {},
   "outputs": [],
   "source": [
    "bestbuyrows[\"changeinqty\"] = bestbuyrows.quantity - bestbuyrows.quantity.shift(1)"
   ]
  },
  {
   "cell_type": "code",
   "execution_count": 143,
   "id": "vital-index",
   "metadata": {},
   "outputs": [],
   "source": [
    "bestbuyrows['dt'] = pd.to_datetime(bestbuyrows.dt,format=\"%Y-%m-%d %H:%M:%S\")"
   ]
  },
  {
   "cell_type": "code",
   "execution_count": 144,
   "id": "informal-steam",
   "metadata": {},
   "outputs": [],
   "source": [
    "bestbuyrows[\"dtdiff\"] = (bestbuyrows.dt - bestbuyrows.dt.shift(1)).dt.total_seconds()"
   ]
  },
  {
   "cell_type": "code",
   "execution_count": 145,
   "id": "logical-fellowship",
   "metadata": {},
   "outputs": [],
   "source": [
    "bestbuyrows[\"dtobjects\"] = (pd.to_datetime(bestbuyrows.dt))"
   ]
  },
  {
   "cell_type": "code",
   "execution_count": 146,
   "id": "seven-florida",
   "metadata": {},
   "outputs": [],
   "source": [
    "bestbuyrows[\"changeindt\"] = (bestbuyrows.dtobjects - bestbuyrows.dtobjects.shift(1))"
   ]
  },
  {
   "cell_type": "code",
   "execution_count": 248,
   "id": "brilliant-monitor",
   "metadata": {},
   "outputs": [
    {
     "data": {
      "text/html": [
       "<div>\n",
       "<style scoped>\n",
       "    .dataframe tbody tr th:only-of-type {\n",
       "        vertical-align: middle;\n",
       "    }\n",
       "\n",
       "    .dataframe tbody tr th {\n",
       "        vertical-align: top;\n",
       "    }\n",
       "\n",
       "    .dataframe thead th {\n",
       "        text-align: right;\n",
       "    }\n",
       "</style>\n",
       "<table border=\"1\" class=\"dataframe\">\n",
       "  <thead>\n",
       "    <tr style=\"text-align: right;\">\n",
       "      <th></th>\n",
       "      <th>Unnamed: 0</th>\n",
       "      <th>id</th>\n",
       "      <th>material</th>\n",
       "      <th>price</th>\n",
       "      <th>quantity</th>\n",
       "      <th>user_id</th>\n",
       "      <th>location</th>\n",
       "      <th>type</th>\n",
       "      <th>ts</th>\n",
       "      <th>dt</th>\n",
       "      <th>prevprice</th>\n",
       "      <th>prevuserid</th>\n",
       "      <th>issameorder</th>\n",
       "      <th>changeinqty</th>\n",
       "      <th>dtdiff</th>\n",
       "      <th>dtobjects</th>\n",
       "      <th>changeindt</th>\n",
       "      <th>hour</th>\n",
       "      <th>day</th>\n",
       "    </tr>\n",
       "  </thead>\n",
       "  <tbody>\n",
       "    <tr>\n",
       "      <th>2</th>\n",
       "      <td>71218</td>\n",
       "      <td>3804643</td>\n",
       "      <td>Axnit</td>\n",
       "      <td>60</td>\n",
       "      <td>463</td>\n",
       "      <td>4836716</td>\n",
       "      <td>Citadel</td>\n",
       "      <td>sell</td>\n",
       "      <td>2021-06-03 23:43:06</td>\n",
       "      <td>2021-06-03 23:43:06</td>\n",
       "      <td>NaN</td>\n",
       "      <td>NaN</td>\n",
       "      <td>False</td>\n",
       "      <td>NaN</td>\n",
       "      <td>NaN</td>\n",
       "      <td>2021-06-03 23:43:06</td>\n",
       "      <td>NaT</td>\n",
       "      <td>2021-06-03 23:00</td>\n",
       "      <td>2021-06-03</td>\n",
       "    </tr>\n",
       "    <tr>\n",
       "      <th>7</th>\n",
       "      <td>71213</td>\n",
       "      <td>3804725</td>\n",
       "      <td>Axnit</td>\n",
       "      <td>60</td>\n",
       "      <td>463</td>\n",
       "      <td>4836716</td>\n",
       "      <td>Citadel</td>\n",
       "      <td>sell</td>\n",
       "      <td>2021-06-03 23:44:16</td>\n",
       "      <td>2021-06-03 23:44:16</td>\n",
       "      <td>60.0</td>\n",
       "      <td>4836716</td>\n",
       "      <td>True</td>\n",
       "      <td>0.0</td>\n",
       "      <td>70.0</td>\n",
       "      <td>2021-06-03 23:44:16</td>\n",
       "      <td>0 days 00:01:10</td>\n",
       "      <td>2021-06-03 23:00</td>\n",
       "      <td>2021-06-03</td>\n",
       "    </tr>\n",
       "    <tr>\n",
       "      <th>12</th>\n",
       "      <td>71208</td>\n",
       "      <td>3804837</td>\n",
       "      <td>Axnit</td>\n",
       "      <td>60</td>\n",
       "      <td>463</td>\n",
       "      <td>4836716</td>\n",
       "      <td>Citadel</td>\n",
       "      <td>sell</td>\n",
       "      <td>2021-06-03 23:45:52</td>\n",
       "      <td>2021-06-03 23:45:52</td>\n",
       "      <td>60.0</td>\n",
       "      <td>4836716</td>\n",
       "      <td>True</td>\n",
       "      <td>0.0</td>\n",
       "      <td>96.0</td>\n",
       "      <td>2021-06-03 23:45:52</td>\n",
       "      <td>0 days 00:01:36</td>\n",
       "      <td>2021-06-03 23:00</td>\n",
       "      <td>2021-06-03</td>\n",
       "    </tr>\n",
       "    <tr>\n",
       "      <th>17</th>\n",
       "      <td>71203</td>\n",
       "      <td>3804999</td>\n",
       "      <td>Axnit</td>\n",
       "      <td>60</td>\n",
       "      <td>403</td>\n",
       "      <td>4836716</td>\n",
       "      <td>Citadel</td>\n",
       "      <td>sell</td>\n",
       "      <td>2021-06-03 23:48:37</td>\n",
       "      <td>2021-06-03 23:48:37</td>\n",
       "      <td>60.0</td>\n",
       "      <td>4836716</td>\n",
       "      <td>True</td>\n",
       "      <td>-60.0</td>\n",
       "      <td>165.0</td>\n",
       "      <td>2021-06-03 23:48:37</td>\n",
       "      <td>0 days 00:02:45</td>\n",
       "      <td>2021-06-03 23:00</td>\n",
       "      <td>2021-06-03</td>\n",
       "    </tr>\n",
       "    <tr>\n",
       "      <th>22</th>\n",
       "      <td>71198</td>\n",
       "      <td>3805148</td>\n",
       "      <td>Axnit</td>\n",
       "      <td>60</td>\n",
       "      <td>403</td>\n",
       "      <td>4836716</td>\n",
       "      <td>Citadel</td>\n",
       "      <td>sell</td>\n",
       "      <td>2021-06-03 23:51:23</td>\n",
       "      <td>2021-06-03 23:51:23</td>\n",
       "      <td>60.0</td>\n",
       "      <td>4836716</td>\n",
       "      <td>True</td>\n",
       "      <td>0.0</td>\n",
       "      <td>166.0</td>\n",
       "      <td>2021-06-03 23:51:23</td>\n",
       "      <td>0 days 00:02:46</td>\n",
       "      <td>2021-06-03 23:00</td>\n",
       "      <td>2021-06-03</td>\n",
       "    </tr>\n",
       "  </tbody>\n",
       "</table>\n",
       "</div>"
      ],
      "text/plain": [
       "    Unnamed: 0       id material  price  quantity  user_id location  type  \\\n",
       "2        71218  3804643    Axnit     60       463  4836716  Citadel  sell   \n",
       "7        71213  3804725    Axnit     60       463  4836716  Citadel  sell   \n",
       "12       71208  3804837    Axnit     60       463  4836716  Citadel  sell   \n",
       "17       71203  3804999    Axnit     60       403  4836716  Citadel  sell   \n",
       "22       71198  3805148    Axnit     60       403  4836716  Citadel  sell   \n",
       "\n",
       "                     ts                  dt  prevprice prevuserid  \\\n",
       "2   2021-06-03 23:43:06 2021-06-03 23:43:06        NaN        NaN   \n",
       "7   2021-06-03 23:44:16 2021-06-03 23:44:16       60.0    4836716   \n",
       "12  2021-06-03 23:45:52 2021-06-03 23:45:52       60.0    4836716   \n",
       "17  2021-06-03 23:48:37 2021-06-03 23:48:37       60.0    4836716   \n",
       "22  2021-06-03 23:51:23 2021-06-03 23:51:23       60.0    4836716   \n",
       "\n",
       "    issameorder  changeinqty  dtdiff           dtobjects      changeindt  \\\n",
       "2         False          NaN     NaN 2021-06-03 23:43:06             NaT   \n",
       "7          True          0.0    70.0 2021-06-03 23:44:16 0 days 00:01:10   \n",
       "12         True          0.0    96.0 2021-06-03 23:45:52 0 days 00:01:36   \n",
       "17         True        -60.0   165.0 2021-06-03 23:48:37 0 days 00:02:45   \n",
       "22         True          0.0   166.0 2021-06-03 23:51:23 0 days 00:02:46   \n",
       "\n",
       "                hour         day  \n",
       "2   2021-06-03 23:00  2021-06-03  \n",
       "7   2021-06-03 23:00  2021-06-03  \n",
       "12  2021-06-03 23:00  2021-06-03  \n",
       "17  2021-06-03 23:00  2021-06-03  \n",
       "22  2021-06-03 23:00  2021-06-03  "
      ]
     },
     "execution_count": 248,
     "metadata": {},
     "output_type": "execute_result"
    }
   ],
   "source": [
    "bestbuyrows.head()"
   ]
  },
  {
   "cell_type": "code",
   "execution_count": 149,
   "id": "employed-instrument",
   "metadata": {},
   "outputs": [],
   "source": [
    "bestbuyrows['hour'] = bestbuyrows.dt.dt.to_period(\"h\")"
   ]
  },
  {
   "cell_type": "code",
   "execution_count": 150,
   "id": "front-swing",
   "metadata": {},
   "outputs": [],
   "source": [
    "bestbuyrows['day'] = bestbuyrows.dt.dt.to_period(\"D\")"
   ]
  },
  {
   "cell_type": "markdown",
   "id": "4ca25b8a-d816-43f4-a3de-9d18ffb9371d",
   "metadata": {},
   "source": [
    "This is the sum of the total amount of the item sold at a certain price point, grouped by day\n",
    "I will use this to determine how much of this item, \"axnit,\" is soled each day and at which price points"
   ]
  },
  {
   "cell_type": "markdown",
   "id": "3dc645ee-0cb7-4a3b-9e5b-1fd39cb1734d",
   "metadata": {},
   "source": [
    "# charting data"
   ]
  },
  {
   "cell_type": "code",
   "execution_count": 164,
   "id": "cosmetic-context",
   "metadata": {},
   "outputs": [],
   "source": [
    "def sumVolume(price, range):\n",
    "    thing1 = bestbuyrows[(bestbuyrows.issameorder) & (bestbuyrows.changeinqty <= 0) & (bestbuyrows.price<price + range) & (bestbuyrows.price >= price)]\n",
    "    ser = thing1.groupby('day')[\"changeinqty\"].sum()\n",
    "    ser.name = price\n",
    "    return ser"
   ]
  },
  {
   "cell_type": "code",
   "execution_count": 155,
   "id": "3fddceb0-50b3-4042-bcc7-5856a3c8bb03",
   "metadata": {},
   "outputs": [],
   "source": [
    "import holoviews as hv"
   ]
  },
  {
   "cell_type": "code",
   "execution_count": 238,
   "id": "31f931c4-3e24-4802-a472-ee300923e56b",
   "metadata": {},
   "outputs": [],
   "source": [
    "df = pd.concat([\n",
    "    sumVolume(35,5),\n",
    "    sumVolume(40,5),\n",
    "    sumVolume(45,5),\n",
    "    sumVolume(50,5),\n",
    "    sumVolume(55,5),\n",
    "    sumVolume(60,5)\n",
    "], axis=1)"
   ]
  },
  {
   "cell_type": "markdown",
   "id": "d095db2f-14ae-426c-8cb6-11f842ba60d6",
   "metadata": {},
   "source": [
    "This converts it into the table you see below"
   ]
  },
  {
   "cell_type": "code",
   "execution_count": 240,
   "id": "e8b49578-1fe1-491a-b17d-6fa0b4724c65",
   "metadata": {},
   "outputs": [],
   "source": [
    "concatdf = df.stack().reset_index()"
   ]
  },
  {
   "cell_type": "code",
   "execution_count": 249,
   "id": "e6db29ec-0466-4427-b161-d7f0a4bc5ec9",
   "metadata": {},
   "outputs": [
    {
     "data": {
      "text/html": [
       "<div>\n",
       "<style scoped>\n",
       "    .dataframe tbody tr th:only-of-type {\n",
       "        vertical-align: middle;\n",
       "    }\n",
       "\n",
       "    .dataframe tbody tr th {\n",
       "        vertical-align: top;\n",
       "    }\n",
       "\n",
       "    .dataframe thead th {\n",
       "        text-align: right;\n",
       "    }\n",
       "</style>\n",
       "<table border=\"1\" class=\"dataframe\">\n",
       "  <thead>\n",
       "    <tr style=\"text-align: right;\">\n",
       "      <th></th>\n",
       "      <th>day</th>\n",
       "      <th>price</th>\n",
       "      <th>totalqty</th>\n",
       "    </tr>\n",
       "  </thead>\n",
       "  <tbody>\n",
       "    <tr>\n",
       "      <th>0</th>\n",
       "      <td>2021-06-03</td>\n",
       "      <td>60</td>\n",
       "      <td>-300.0</td>\n",
       "    </tr>\n",
       "    <tr>\n",
       "      <th>1</th>\n",
       "      <td>2021-06-04</td>\n",
       "      <td>50</td>\n",
       "      <td>-15963.0</td>\n",
       "    </tr>\n",
       "    <tr>\n",
       "      <th>2</th>\n",
       "      <td>2021-06-04</td>\n",
       "      <td>55</td>\n",
       "      <td>-5748.0</td>\n",
       "    </tr>\n",
       "    <tr>\n",
       "      <th>3</th>\n",
       "      <td>2021-06-04</td>\n",
       "      <td>60</td>\n",
       "      <td>-8185.0</td>\n",
       "    </tr>\n",
       "    <tr>\n",
       "      <th>4</th>\n",
       "      <td>2021-06-05</td>\n",
       "      <td>45</td>\n",
       "      <td>-20081.0</td>\n",
       "    </tr>\n",
       "  </tbody>\n",
       "</table>\n",
       "</div>"
      ],
      "text/plain": [
       "         day  price  totalqty\n",
       "0 2021-06-03     60    -300.0\n",
       "1 2021-06-04     50  -15963.0\n",
       "2 2021-06-04     55   -5748.0\n",
       "3 2021-06-04     60   -8185.0\n",
       "4 2021-06-05     45  -20081.0"
      ]
     },
     "execution_count": 249,
     "metadata": {},
     "output_type": "execute_result"
    }
   ],
   "source": [
    "concatdf.columns = ['day','price','totalqty']\n",
    "concatdf.head()"
   ]
  },
  {
   "cell_type": "code",
   "execution_count": 242,
   "id": "7a053978-a885-4fcd-8a3c-7118426affba",
   "metadata": {},
   "outputs": [],
   "source": [
    "concatdf.day = concatdf.day.dt.to_timestamp()"
   ]
  },
  {
   "cell_type": "markdown",
   "id": "9e97519a-c44b-461a-b617-2625aa8d0709",
   "metadata": {
    "jp-MarkdownHeadingCollapsed": true,
    "tags": []
   },
   "source": [
    "This is an area chart showing how much of each day's \"axnit\" sales were at one of 6 price points.\n",
    "You can see that early in the chart, most of the item sold is around the \\$50-60 price range.\n",
    "As time passes, however, the price drops to 40-50. \n",
    "Additionally, the total number of items sold seems to have decreased.\n",
    "\n",
    "The massive spike on 6/28 is due to someone re-listing their massive order at a smaller quantity, tricking us into believing\n",
    "that 90,000 \"axnit\" was sold on that day (yet another limitation of the data)."
   ]
  },
  {
   "cell_type": "code",
   "execution_count": 243,
   "id": "10c12baf-942a-4735-b343-26f4218106da",
   "metadata": {},
   "outputs": [
    {
     "data": {},
     "metadata": {},
     "output_type": "display_data"
    },
    {
     "data": {
      "application/vnd.holoviews_exec.v0+json": "",
      "text/html": [
       "<div id='7286'>\n",
       "\n",
       "\n",
       "\n",
       "\n",
       "\n",
       "  <div class=\"bk-root\" id=\"348724df-90f9-4371-af7d-9d65e89383a3\" data-root-id=\"7286\"></div>\n",
       "</div>\n",
       "<script type=\"application/javascript\">(function(root) {\n",
       "  function embed_document(root) {\n",
       "    var docs_json = {\"663b339b-8342-46c6-84ca-25e42a4beadd\":{\"defs\":[{\"extends\":null,\"module\":null,\"name\":\"ReactiveHTML1\",\"overrides\":[],\"properties\":[]},{\"extends\":null,\"module\":null,\"name\":\"FlexBox1\",\"overrides\":[],\"properties\":[{\"default\":\"flex-start\",\"kind\":null,\"name\":\"align_content\"},{\"default\":\"flex-start\",\"kind\":null,\"name\":\"align_items\"},{\"default\":\"row\",\"kind\":null,\"name\":\"flex_direction\"},{\"default\":\"wrap\",\"kind\":null,\"name\":\"flex_wrap\"},{\"default\":\"flex-start\",\"kind\":null,\"name\":\"justify_content\"}]},{\"extends\":null,\"module\":null,\"name\":\"TemplateActions1\",\"overrides\":[],\"properties\":[{\"default\":0,\"kind\":null,\"name\":\"open_modal\"},{\"default\":0,\"kind\":null,\"name\":\"close_modal\"}]},{\"extends\":null,\"module\":null,\"name\":\"MaterialTemplateActions1\",\"overrides\":[],\"properties\":[{\"default\":0,\"kind\":null,\"name\":\"open_modal\"},{\"default\":0,\"kind\":null,\"name\":\"close_modal\"}]}],\"roots\":{\"references\":[{\"attributes\":{\"data\":{\"x\":{\"__ndarray__\":\"AADAtvKcd0IAAIAcRZ13QgAAQIKXnXdCAAAA6Omdd0IAAMBNPJ53QgAAgLOOnndCAABAGeGed0IAAAB/M593QgAAwOSFn3dCAACAStifd0IAAECwKqB3QgAAABZ9oHdCAADAe8+gd0IAAIDhIaF3QgAAQEd0oXdCAAAArcahd0IAAMASGaJ3QgAAgHhrondCAABA3r2id0IAAABEEKN3QgAAwKlio3dCAACAD7Wjd0IAAEB1B6R3QgAAANtZpHdCAADAQKykd0IAAICm/qR3QgAAQAxRpXdCAAAAcqOld0IAAMDX9aV3QgAAgD1IpndCAABAo5qmd0IAAAAJ7aZ3QgAAwG4/p3dCAACA1JGnd0IAAEA65Kd3QgAAAKA2qHdCAADABYmod0IAAIBr26h3QgAAQNEtqXdCAAAAN4Cpd0IAAMCc0ql3QgAAgAIlqndCAABAaHeqd0IAAADOyap3QgAAwDMcq3dCAACAmW6rd0IAAED/wKt3QgAAAGUTrHdCAADAymWsd0IAAIAwuKx3QgAAQJYKrXdCAAAA/Fytd0IAAMBhr613QgAAgMcBrndCAABALVSud0IAAEAtVK53QgAAgMcBrndCAADAYa+td0IAAAD8XK13QgAAQJYKrXdCAACAMLisd0IAAMDKZax3QgAAAGUTrHdCAABA/8Crd0IAAICZbqt3QgAAwDMcq3dCAAAAzsmqd0IAAEBod6p3QgAAgAIlqndCAADAnNKpd0IAAAA3gKl3QgAAQNEtqXdCAACAa9uod0IAAMAFiah3QgAAAKA2qHdCAABAOuSnd0IAAIDUkad3QgAAwG4/p3dCAAAACe2md0IAAECjmqZ3QgAAgD1IpndCAADA1/Wld0IAAAByo6V3QgAAQAxRpXdCAACApv6kd0IAAMBArKR3QgAAANtZpHdCAABAdQekd0IAAIAPtaN3QgAAwKlio3dCAAAARBCjd0IAAEDevaJ3QgAAgHhrondCAADAEhmid0IAAACtxqF3QgAAQEd0oXdCAACA4SGhd0IAAMB7z6B3QgAAABZ9oHdCAABAsCqgd0IAAIBK2J93QgAAwOSFn3dCAAAAfzOfd0IAAEAZ4Z53QgAAgLOOnndCAADATTyed0IAAADo6Z13QgAAQIKXnXdCAACAHEWdd0IAAMC28px3Qg==\",\"dtype\":\"float64\",\"order\":\"little\",\"shape\":[110]},\"y\":{\"__ndarray__\":\"AAAAAAAAAAAAAAAAAAAAAAAAAAAAAAAAAAAAAAAAAAAAAAAAAAAAAAAAAAAAAAAAAAAAAAAAAAAAAAAAAFCJwAAAAAAAAAAAAAAAAAAAAAAAAAAAAAAAAAAAAAAAAAAAAAAAAAAAAAAAAAAAAAAAAAAAAAAAAAAAAAAAAAAAAAAAAAAAAAAAAAAAAAAAAAAAAAAAAAAAAAAAAAAAAAAAAAAAAAAAAAAAAAAAAAAAAAAAAAAAAAAAAAAAAAAAAAAAAAAAAAAAAAAAAAAAAAAAAAAAAAAAAAAAAAAAAAAAAAAAAAAAAAAuwAAAAAAAAAAAAAAAAAAAAAAAAAAAAAAAAAAAAAAAAAAAAAAAAAAAAAAAAAAAAAAAAAAAAAAAAAAAAAAAAAAAAAAAAAAAAAAAAAAAAAAAAAAAAAAAAAAAAAAAAAAAAAAAAAAAAAAAAAAAAAAAAAAAAAAAAAAAAABCwAAAAAAAAAAAAAAAAAAAAAAAAAAAAAAAAAAAAAAAAAAAAAAAAAAAAAAAAAAAAAAAAAAAAAAAAAAAAAAAAAAAAAAAAAAAAAAAAAAAAAAAAAAAAAAAAAAAAAAAAAAAAAAAAAAAAAAAAAAAAAAAAAAAAAAAAAAAAAAAAAAAAAAAcJLAAAAAAADclsAAAAAAAAAAAAAAAAAAAAAAAAAAAAAAAAAAAAAAAH7FwAAAAAAAAAAAAAAAAAAYq8AAAAAAAISywAAAAAAAwq/AAAAAAAAAAAAAAAAAAIBKwAAAAAAA4rDAAAAAAIBvwsAAAAAAAABJwAAAAAAAAAAAAAAAAAAAAAAAAAAAAPBzwAAAAAAAAAAAAAAAAAAAAAAAAAAAAAAAAAAAAABAL9PAAAAAAAAALsAAAAAAAAAAAAAAAAAAAAAAAAAAAAAAAAAAAAAAAAAAAAAAAAAAAAAAAAAAAAAAAAAAAAAAAAAAAAAAAAAAAAAAAAAAAAAAAAAAAAAAAAAAAAAAAAAAAAAAAAAAAAAAAAAAAAAAAAAAAAAAAAAAAAAAAAAAAAAAAAAAAAAAAAAAAAAAAAAAAAAAAAAAAAAAAAAAAAAAAAAAAAAAAAAAAAAAAAAAAABQicAAAAAAAAAAAAAAAAAAAAAAAAAAAAAAAAAAAAAAAAAAAAAAAAAAAAAAAAAAAAAAAAAAAAAAAAAAAA==\",\"dtype\":\"float64\",\"order\":\"little\",\"shape\":[110]}},\"selected\":{\"id\":\"7359\"},\"selection_policy\":{\"id\":\"7389\"}},\"id\":\"7358\",\"type\":\"ColumnDataSource\"},{\"attributes\":{\"fill_alpha\":0.2,\"fill_color\":\"#8b8b8b\",\"line_alpha\":0.2,\"x\":{\"field\":\"x\"},\"y\":{\"field\":\"y\"}},\"id\":\"7471\",\"type\":\"Patch\"},{\"attributes\":{\"fill_alpha\":0.2,\"fill_color\":\"#6d904f\",\"line_alpha\":0.2,\"x\":{\"field\":\"x\"},\"y\":{\"field\":\"y\"}},\"id\":\"7433\",\"type\":\"Patch\"},{\"attributes\":{\"fill_alpha\":1,\"fill_color\":\"#8b8b8b\",\"line_alpha\":1,\"x\":{\"field\":\"x\"},\"y\":{\"field\":\"y\"}},\"id\":\"7470\",\"type\":\"Patch\"},{\"attributes\":{},\"id\":\"7545\",\"type\":\"UnionRenderers\"},{\"attributes\":{\"months\":[0,6]},\"id\":\"7350\",\"type\":\"MonthsTicker\"},{\"attributes\":{},\"id\":\"7359\",\"type\":\"Selection\"},{\"attributes\":{},\"id\":\"7309\",\"type\":\"WheelZoomTool\"},{\"attributes\":{\"source\":{\"id\":\"7466\"}},\"id\":\"7473\",\"type\":\"CDSView\"},{\"attributes\":{\"days\":[1,2,3,4,5,6,7,8,9,10,11,12,13,14,15,16,17,18,19,20,21,22,23,24,25,26,27,28,29,30,31]},\"id\":\"7343\",\"type\":\"DaysTicker\"},{\"attributes\":{\"click_policy\":\"mute\",\"items\":[{\"id\":\"7356\"},{\"id\":\"7390\"},{\"id\":\"7426\"},{\"id\":\"7464\"},{\"id\":\"7504\"},{\"id\":\"7546\"}],\"title\":\"price\"},\"id\":\"7355\",\"type\":\"Legend\"},{\"attributes\":{\"fill_alpha\":0.2,\"fill_color\":\"#17becf\",\"line_alpha\":0.2,\"x\":{\"field\":\"x\"},\"y\":{\"field\":\"y\"}},\"id\":\"7511\",\"type\":\"Patch\"},{\"attributes\":{\"base\":24,\"mantissas\":[1,2,4,6,8,12],\"max_interval\":43200000.0,\"min_interval\":3600000.0,\"num_minor_ticks\":0},\"id\":\"7342\",\"type\":\"AdaptiveTicker\"},{\"attributes\":{},\"id\":\"7324\",\"type\":\"BasicTickFormatter\"},{\"attributes\":{\"source\":{\"id\":\"7358\"}},\"id\":\"7365\",\"type\":\"CDSView\"},{\"attributes\":{\"fill_color\":\"#8b8b8b\",\"x\":{\"field\":\"x\"},\"y\":{\"field\":\"y\"}},\"id\":\"7469\",\"type\":\"Patch\"},{\"attributes\":{\"data_source\":{\"id\":\"7466\"},\"glyph\":{\"id\":\"7469\"},\"hover_glyph\":null,\"muted_glyph\":{\"id\":\"7471\"},\"nonselection_glyph\":{\"id\":\"7470\"},\"selection_glyph\":{\"id\":\"7505\"},\"view\":{\"id\":\"7473\"}},\"id\":\"7472\",\"type\":\"GlyphRenderer\"},{\"attributes\":{\"base\":60,\"mantissas\":[1,2,5,10,15,20,30],\"max_interval\":1800000.0,\"min_interval\":1000.0,\"num_minor_ticks\":0},\"id\":\"7341\",\"type\":\"AdaptiveTicker\"},{\"attributes\":{\"fill_color\":\"#8b8b8b\",\"x\":{\"field\":\"x\"},\"y\":{\"field\":\"y\"}},\"id\":\"7505\",\"type\":\"Patch\"},{\"attributes\":{},\"id\":\"7295\",\"type\":\"LinearScale\"},{\"attributes\":{},\"id\":\"7323\",\"type\":\"AllLabels\"},{\"attributes\":{\"label\":{\"value\":\"55\"},\"renderers\":[{\"id\":\"7472\"}]},\"id\":\"7504\",\"type\":\"LegendItem\"},{\"attributes\":{\"fill_color\":\"#17becf\",\"x\":{\"field\":\"x\"},\"y\":{\"field\":\"y\"}},\"id\":\"7547\",\"type\":\"Patch\"},{\"attributes\":{\"months\":[0,1,2,3,4,5,6,7,8,9,10,11]},\"id\":\"7347\",\"type\":\"MonthsTicker\"},{\"attributes\":{\"data_source\":{\"id\":\"7358\"},\"glyph\":{\"id\":\"7361\"},\"hover_glyph\":null,\"muted_glyph\":{\"id\":\"7363\"},\"nonselection_glyph\":{\"id\":\"7362\"},\"selection_glyph\":{\"id\":\"7391\"},\"view\":{\"id\":\"7365\"}},\"id\":\"7364\",\"type\":\"GlyphRenderer\"},{\"attributes\":{\"fill_color\":\"#e5ae38\",\"x\":{\"field\":\"x\"},\"y\":{\"field\":\"y\"}},\"id\":\"7427\",\"type\":\"Patch\"},{\"attributes\":{\"days\":[1,15]},\"id\":\"7346\",\"type\":\"DaysTicker\"},{\"attributes\":{\"end\":1627344000000.0,\"reset_end\":1627344000000.0,\"reset_start\":1622678400000.0,\"start\":1622678400000.0,\"tags\":[[[\"day\",\"day\",null]]]},\"id\":\"7288\",\"type\":\"Range1d\"},{\"attributes\":{\"data\":{\"x\":{\"__ndarray__\":\"AADAtvKcd0IAAIAcRZ13QgAAQIKXnXdCAAAA6Omdd0IAAMBNPJ53QgAAgLOOnndCAABAGeGed0IAAAB/M593QgAAwOSFn3dCAACAStifd0IAAECwKqB3QgAAABZ9oHdCAADAe8+gd0IAAIDhIaF3QgAAQEd0oXdCAAAArcahd0IAAMASGaJ3QgAAgHhrondCAABA3r2id0IAAABEEKN3QgAAwKlio3dCAACAD7Wjd0IAAEB1B6R3QgAAANtZpHdCAADAQKykd0IAAICm/qR3QgAAQAxRpXdCAAAAcqOld0IAAMDX9aV3QgAAgD1IpndCAABAo5qmd0IAAAAJ7aZ3QgAAwG4/p3dCAACA1JGnd0IAAEA65Kd3QgAAAKA2qHdCAADABYmod0IAAIBr26h3QgAAQNEtqXdCAAAAN4Cpd0IAAMCc0ql3QgAAgAIlqndCAABAaHeqd0IAAADOyap3QgAAwDMcq3dCAACAmW6rd0IAAED/wKt3QgAAAGUTrHdCAADAymWsd0IAAIAwuKx3QgAAQJYKrXdCAAAA/Fytd0IAAMBhr613QgAAgMcBrndCAABALVSud0IAAEAtVK53QgAAgMcBrndCAADAYa+td0IAAAD8XK13QgAAQJYKrXdCAACAMLisd0IAAMDKZax3QgAAAGUTrHdCAABA/8Crd0IAAICZbqt3QgAAwDMcq3dCAAAAzsmqd0IAAEBod6p3QgAAgAIlqndCAADAnNKpd0IAAAA3gKl3QgAAQNEtqXdCAACAa9uod0IAAMAFiah3QgAAAKA2qHdCAABAOuSnd0IAAIDUkad3QgAAwG4/p3dCAAAACe2md0IAAECjmqZ3QgAAgD1IpndCAADA1/Wld0IAAAByo6V3QgAAQAxRpXdCAACApv6kd0IAAMBArKR3QgAAANtZpHdCAABAdQekd0IAAIAPtaN3QgAAwKlio3dCAAAARBCjd0IAAEDevaJ3QgAAgHhrondCAADAEhmid0IAAACtxqF3QgAAQEd0oXdCAACA4SGhd0IAAMB7z6B3QgAAABZ9oHdCAABAsCqgd0IAAIBK2J93QgAAwOSFn3dCAAAAfzOfd0IAAEAZ4Z53QgAAgLOOnndCAADATTyed0IAAADo6Z13QgAAQIKXnXdCAACAHEWdd0IAAMC28px3Qg==\",\"dtype\":\"float64\",\"order\":\"little\",\"shape\":[110]},\"y\":{\"__ndarray__\":\"AAAAAAAAAAAAAAAAAAAAAAAAAAAAAAAAAAAAAAAAAAAAAAAAAAAAAAAAAAAAAAAAAAAAAAAAAAAAAAAAAFCJwAAAAAAAAAAAAAAAAAAAAAAAAAAAAAAAAAAAAAAAAAAAAAAAAAAAAAAAAAAAAAAAAAAAAAAAAAAAAAAAAAAAAAAAAAAAAAAAAAAAAAAAAAAAAAAAAAAAAAAAAAAAAAAAAAAAAAAAAAAAAAAAAAAAAAAAAAAAAAAAAAAAAAAAAAAAAAAAAAAAAAAAAAAAAAAAAAAAAAAAAAAAAAAAAAAAAAAAAAAAAAAuwAAAAABAL9PAAAAAAAAAAAAAAAAAAAAAAAAAAAAAAAAAAAAAAADwc8AAAAAAAAAAAAAAAAAAAAAAAAAAAAAAScAAAAAAgG/CwAAAAAAA4rDAAAAAAACASsAAAAAAAAAAAAAAAAAAwq/AAAAAAACEssAAAAAAABirwAAAAAAAAAAAAAAAAAB+xcAAAAAAAAAAAAAAAAAAAAAAAAAAAAAAAAAAAAAAANyWwAAAAAAAcJLAAAAAAAAAAAAAAAAAAAAAAAAAAAAAAAAAAAAAAAAAAAAAAAAAAKClwAAAAABAw9DAAAAAAICc28AAAAAAgELgwAAAAACArNjAAAAAAADSycAAAAAAAOCVwAAAAAAAAAAAAAAAAAAesMAAAAAAAN7vwAAAAAAAP8bAAAAAAMDm0sAAAAAAgOLUwAAAAACAO9fAAAAAAICq0cAAAAAAgFbIwAAAAAAAE9fAAAAAAABS1MAAAAAAgC3WwAAAAAAAOL7AAAAAAEC/1sAAAAAAgCrKwAAAAAAAEHfAAAAAAABwp8AAAAAAQFHXwAAAAADA0OXAAAAAAACPysAAAAAAAAAAAAAAAAAAYIHAAAAAAAAAAAAAAAAAAAAAAAAAAAAAAAAAAAAAAAAAAAAAAAAAAAAAAAAAAAAAAAAAAAAAAAAAAAAAAAAAAAAAAAAAAAAAAAAAAAAAAAAAAAAAAAAAAAAAAAAAAAAAAAAAAAAAAAAASMAAAAAAAFyewAAAAAAAAAAAAAAAAAAAAAAAAAAAAMB5wAAAAAAAAAAAAAAAAABQicAAAAAAAAAAAAAAAAAAAAAAAAAAAAAAPsAAAAAAAPaxwAAAAABAnNPAAAAAAAAAAAAAAAAAAAAAAA==\",\"dtype\":\"float64\",\"order\":\"little\",\"shape\":[110]}},\"selected\":{\"id\":\"7393\"},\"selection_policy\":{\"id\":\"7425\"}},\"id\":\"7392\",\"type\":\"ColumnDataSource\"},{\"attributes\":{},\"id\":\"7351\",\"type\":\"YearsTicker\"},{\"attributes\":{\"end\":13869.0,\"reset_end\":13869.0,\"reset_start\":-152559.0,\"start\":-152559.0,\"tags\":[[[\"totalqty\",\"totalqty\",null]]]},\"id\":\"7289\",\"type\":\"Range1d\"},{\"attributes\":{\"axis_label\":\"totalqty\",\"formatter\":{\"id\":\"7324\"},\"major_label_policy\":{\"id\":\"7323\"},\"ticker\":{\"id\":\"7304\"}},\"id\":\"7303\",\"type\":\"LinearAxis\"},{\"attributes\":{},\"id\":\"7425\",\"type\":\"UnionRenderers\"},{\"attributes\":{\"below\":[{\"id\":\"7299\"}],\"center\":[{\"id\":\"7302\"},{\"id\":\"7306\"},{\"id\":\"7355\"}],\"height\":300,\"left\":[{\"id\":\"7303\"}],\"margin\":[5,5,5,5],\"min_border_bottom\":10,\"min_border_left\":10,\"min_border_right\":10,\"min_border_top\":10,\"renderers\":[{\"id\":\"7331\"},{\"id\":\"7364\"},{\"id\":\"7398\"},{\"id\":\"7434\"},{\"id\":\"7472\"},{\"id\":\"7512\"}],\"sizing_mode\":\"fixed\",\"title\":{\"id\":\"7291\"},\"toolbar\":{\"id\":\"7313\"},\"x_range\":{\"id\":\"7288\"},\"x_scale\":{\"id\":\"7295\"},\"y_range\":{\"id\":\"7289\"},\"y_scale\":{\"id\":\"7297\"}},\"id\":\"7290\",\"subtype\":\"Figure\",\"type\":\"Plot\"},{\"attributes\":{\"data_source\":{\"id\":\"7325\"},\"glyph\":{\"id\":\"7328\"},\"hover_glyph\":null,\"muted_glyph\":{\"id\":\"7330\"},\"nonselection_glyph\":{\"id\":\"7329\"},\"selection_glyph\":{\"id\":\"7357\"},\"view\":{\"id\":\"7332\"}},\"id\":\"7331\",\"type\":\"GlyphRenderer\"},{\"attributes\":{\"data_source\":{\"id\":\"7428\"},\"glyph\":{\"id\":\"7431\"},\"hover_glyph\":null,\"muted_glyph\":{\"id\":\"7433\"},\"nonselection_glyph\":{\"id\":\"7432\"},\"selection_glyph\":{\"id\":\"7465\"},\"view\":{\"id\":\"7435\"}},\"id\":\"7434\",\"type\":\"GlyphRenderer\"},{\"attributes\":{\"fill_color\":\"#fc4f30\",\"x\":{\"field\":\"x\"},\"y\":{\"field\":\"y\"}},\"id\":\"7361\",\"type\":\"Patch\"},{\"attributes\":{},\"id\":\"7503\",\"type\":\"UnionRenderers\"},{\"attributes\":{\"fill_color\":\"#30a2da\",\"x\":{\"field\":\"x\"},\"y\":{\"field\":\"y\"}},\"id\":\"7357\",\"type\":\"Patch\"},{\"attributes\":{},\"id\":\"7308\",\"type\":\"PanTool\"},{\"attributes\":{\"data_source\":{\"id\":\"7392\"},\"glyph\":{\"id\":\"7395\"},\"hover_glyph\":null,\"muted_glyph\":{\"id\":\"7397\"},\"nonselection_glyph\":{\"id\":\"7396\"},\"selection_glyph\":{\"id\":\"7427\"},\"view\":{\"id\":\"7399\"}},\"id\":\"7398\",\"type\":\"GlyphRenderer\"},{\"attributes\":{\"label\":{\"value\":\"40\"},\"renderers\":[{\"id\":\"7364\"}]},\"id\":\"7390\",\"type\":\"LegendItem\"},{\"attributes\":{\"months\":[0,2,4,6,8,10]},\"id\":\"7348\",\"type\":\"MonthsTicker\"},{\"attributes\":{\"margin\":[5,5,5,5],\"name\":\"HSpacer06440\",\"sizing_mode\":\"stretch_width\"},\"id\":\"7836\",\"type\":\"Spacer\"},{\"attributes\":{\"source\":{\"id\":\"7392\"}},\"id\":\"7399\",\"type\":\"CDSView\"},{\"attributes\":{\"fill_color\":\"#fc4f30\",\"x\":{\"field\":\"x\"},\"y\":{\"field\":\"y\"}},\"id\":\"7391\",\"type\":\"Patch\"},{\"attributes\":{},\"id\":\"7297\",\"type\":\"LinearScale\"},{\"attributes\":{\"fill_color\":\"#6d904f\",\"x\":{\"field\":\"x\"},\"y\":{\"field\":\"y\"}},\"id\":\"7431\",\"type\":\"Patch\"},{\"attributes\":{\"data\":{\"x\":{\"__ndarray__\":\"AADAtvKcd0IAAIAcRZ13QgAAQIKXnXdCAAAA6Omdd0IAAMBNPJ53QgAAgLOOnndCAABAGeGed0IAAAB/M593QgAAwOSFn3dCAACAStifd0IAAECwKqB3QgAAABZ9oHdCAADAe8+gd0IAAIDhIaF3QgAAQEd0oXdCAAAArcahd0IAAMASGaJ3QgAAgHhrondCAABA3r2id0IAAABEEKN3QgAAwKlio3dCAACAD7Wjd0IAAEB1B6R3QgAAANtZpHdCAADAQKykd0IAAICm/qR3QgAAQAxRpXdCAAAAcqOld0IAAMDX9aV3QgAAgD1IpndCAABAo5qmd0IAAAAJ7aZ3QgAAwG4/p3dCAACA1JGnd0IAAEA65Kd3QgAAAKA2qHdCAADABYmod0IAAIBr26h3QgAAQNEtqXdCAAAAN4Cpd0IAAMCc0ql3QgAAgAIlqndCAABAaHeqd0IAAADOyap3QgAAwDMcq3dCAACAmW6rd0IAAED/wKt3QgAAAGUTrHdCAADAymWsd0IAAIAwuKx3QgAAQJYKrXdCAAAA/Fytd0IAAMBhr613QgAAgMcBrndCAABALVSud0IAAEAtVK53QgAAgMcBrndCAADAYa+td0IAAAD8XK13QgAAQJYKrXdCAACAMLisd0IAAMDKZax3QgAAAGUTrHdCAABA/8Crd0IAAICZbqt3QgAAwDMcq3dCAAAAzsmqd0IAAEBod6p3QgAAgAIlqndCAADAnNKpd0IAAAA3gKl3QgAAQNEtqXdCAACAa9uod0IAAMAFiah3QgAAAKA2qHdCAABAOuSnd0IAAIDUkad3QgAAwG4/p3dCAAAACe2md0IAAECjmqZ3QgAAgD1IpndCAADA1/Wld0IAAAByo6V3QgAAQAxRpXdCAACApv6kd0IAAMBArKR3QgAAANtZpHdCAABAdQekd0IAAIAPtaN3QgAAwKlio3dCAAAARBCjd0IAAEDevaJ3QgAAgHhrondCAADAEhmid0IAAACtxqF3QgAAQEd0oXdCAACA4SGhd0IAAMB7z6B3QgAAABZ9oHdCAABAsCqgd0IAAIBK2J93QgAAwOSFn3dCAAAAfzOfd0IAAEAZ4Z53QgAAgLOOnndCAADATTyed0IAAADo6Z13QgAAQIKXnXdCAACAHEWdd0IAAMC28px3Qg==\",\"dtype\":\"float64\",\"order\":\"little\",\"shape\":[110]},\"y\":{\"__ndarray__\":\"AAAAAAAAAAAAAAAAwDPVwAAAAADAs+TAAAAAAMDL7MAAAAAAQLjdwAAAAAAAtLXAAAAAAIDT0sAAAAAAALybwAAAAAAAEJHAAAAAAICe3cAAAAAAQI3RwAAAAAAA/KrAAAAAAIBP3MAAAAAAgADVwAAAAABAGNbAAAAAAEAw3cAAAAAAQG3mwAAAAABAf9bAAAAAAADF4MAAAAAAYJLhwAAAAABgouLAAAAAAMDq0sAAAAAAQIjiwAAAAADADeHAAAAAAABqqMAAAAAAEO4AwQAAAAAAtdTAAAAAAEAI48AAAAAAYI3mwAAAAADA0OXAAAAAACA04sAAAAAAAGqwwAAAAADAvdnAAAAAAMBz1MAAAAAA4LPkwAAAAAAAOL7AAAAAAABS2MAAAAAAAFLUwAAAAABgbuLAAAAAAADk08AAAAAAgKrRwAAAAACAO9fAAAAAAIDi1MAAAAAAwObSwAAAAAAAP8bAAAAAAADe78AAAAAAALTiwAAAAAAARdHAAAAAAED23cAAAAAAgEPUwAAAAACArNjAAAAAACAG4cAAAAAAAFbfwAAAAADAq9PAAAAAAADsscAAAAAAAOyxwAAAAADAq9PAAAAAAABW38AAAAAAIAbhwAAAAACArNjAAAAAAIBD1MAAAAAAQPbdwAAAAAAARdHAAAAAAAC04sAAAAAAAN7vwAAAAAAAP8bAAAAAAMDm0sAAAAAAgOLUwAAAAACAO9fAAAAAAICq0cAAAAAAAOTTwAAAAABgbuLAAAAAAABS1MAAAAAAAFLYwAAAAAAAOL7AAAAAAOCz5MAAAAAAwHPUwAAAAADAvdnAAAAAAABqsMAAAAAAIDTiwAAAAADA0OXAAAAAAGCN5sAAAAAA4HHmwAAAAAAAtdTAAAAAABDuAMEAAAAAAGqowAAAAADADeHAAAAAAECN4sAAAAAAAFLdwAAAAADgouLAAAAAAGCS4cAAAAAAAMXgwAAAAACAidbAAAAAAID/5sAAAAAAYC7jwAAAAABAGNbAAAAAAIAA1cAAAAAAwFHcwAAAAAAA/KrAAAAAAECN0cAAAAAAgGXewAAAAAAAAKHAAAAAAIAlzMAAAAAAQJfYwAAAAABARdTAAAAAAKAf4MAAAAAAANbswAAAAADAs+TAAAAAAAAy3cAAAAAAAMBywA==\",\"dtype\":\"float64\",\"order\":\"little\",\"shape\":[110]}},\"selected\":{\"id\":\"7507\"},\"selection_policy\":{\"id\":\"7545\"}},\"id\":\"7506\",\"type\":\"ColumnDataSource\"},{\"attributes\":{\"fill_color\":\"#30a2da\",\"x\":{\"field\":\"x\"},\"y\":{\"field\":\"y\"}},\"id\":\"7328\",\"type\":\"Patch\"},{\"attributes\":{\"label\":{\"value\":\"50\"},\"renderers\":[{\"id\":\"7434\"}]},\"id\":\"7464\",\"type\":\"LegendItem\"},{\"attributes\":{},\"id\":\"7311\",\"type\":\"ResetTool\"},{\"attributes\":{\"fill_alpha\":0.2,\"fill_color\":\"#fc4f30\",\"line_alpha\":0.2,\"x\":{\"field\":\"x\"},\"y\":{\"field\":\"y\"}},\"id\":\"7363\",\"type\":\"Patch\"},{\"attributes\":{},\"id\":\"7326\",\"type\":\"Selection\"},{\"attributes\":{\"fill_color\":\"#6d904f\",\"x\":{\"field\":\"x\"},\"y\":{\"field\":\"y\"}},\"id\":\"7465\",\"type\":\"Patch\"},{\"attributes\":{\"source\":{\"id\":\"7428\"}},\"id\":\"7435\",\"type\":\"CDSView\"},{\"attributes\":{\"label\":{\"value\":\"35\"},\"renderers\":[{\"id\":\"7331\"}]},\"id\":\"7356\",\"type\":\"LegendItem\"},{\"attributes\":{},\"id\":\"7321\",\"type\":\"DatetimeTickFormatter\"},{\"attributes\":{\"fill_alpha\":1,\"fill_color\":\"#17becf\",\"line_alpha\":1,\"x\":{\"field\":\"x\"},\"y\":{\"field\":\"y\"}},\"id\":\"7510\",\"type\":\"Patch\"},{\"attributes\":{\"fill_color\":\"#e5ae38\",\"x\":{\"field\":\"x\"},\"y\":{\"field\":\"y\"}},\"id\":\"7395\",\"type\":\"Patch\"},{\"attributes\":{\"data\":{\"x\":{\"__ndarray__\":\"AADAtvKcd0IAAIAcRZ13QgAAQIKXnXdCAAAA6Omdd0IAAMBNPJ53QgAAgLOOnndCAABAGeGed0IAAAB/M593QgAAwOSFn3dCAACAStifd0IAAECwKqB3QgAAABZ9oHdCAADAe8+gd0IAAIDhIaF3QgAAQEd0oXdCAAAArcahd0IAAMASGaJ3QgAAgHhrondCAABA3r2id0IAAABEEKN3QgAAwKlio3dCAACAD7Wjd0IAAEB1B6R3QgAAANtZpHdCAADAQKykd0IAAICm/qR3QgAAQAxRpXdCAAAAcqOld0IAAMDX9aV3QgAAgD1IpndCAABAo5qmd0IAAAAJ7aZ3QgAAwG4/p3dCAACA1JGnd0IAAEA65Kd3QgAAAKA2qHdCAADABYmod0IAAIBr26h3QgAAQNEtqXdCAAAAN4Cpd0IAAMCc0ql3QgAAgAIlqndCAABAaHeqd0IAAADOyap3QgAAwDMcq3dCAACAmW6rd0IAAED/wKt3QgAAAGUTrHdCAADAymWsd0IAAIAwuKx3QgAAQJYKrXdCAAAA/Fytd0IAAMBhr613QgAAgMcBrndCAABALVSud0IAAEAtVK53QgAAgMcBrndCAADAYa+td0IAAAD8XK13QgAAQJYKrXdCAACAMLisd0IAAMDKZax3QgAAAGUTrHdCAABA/8Crd0IAAICZbqt3QgAAwDMcq3dCAAAAzsmqd0IAAEBod6p3QgAAgAIlqndCAADAnNKpd0IAAAA3gKl3QgAAQNEtqXdCAACAa9uod0IAAMAFiah3QgAAAKA2qHdCAABAOuSnd0IAAIDUkad3QgAAwG4/p3dCAAAACe2md0IAAECjmqZ3QgAAgD1IpndCAADA1/Wld0IAAAByo6V3QgAAQAxRpXdCAACApv6kd0IAAMBArKR3QgAAANtZpHdCAABAdQekd0IAAIAPtaN3QgAAwKlio3dCAAAARBCjd0IAAEDevaJ3QgAAgHhrondCAADAEhmid0IAAACtxqF3QgAAQEd0oXdCAACA4SGhd0IAAMB7z6B3QgAAABZ9oHdCAABAsCqgd0IAAIBK2J93QgAAwOSFn3dCAAAAfzOfd0IAAEAZ4Z53QgAAgLOOnndCAADATTyed0IAAADo6Z13QgAAQIKXnXdCAACAHEWdd0IAAMC28px3Qg==\",\"dtype\":\"float64\",\"order\":\"little\",\"shape\":[110]},\"y\":{\"__ndarray__\":\"AAAAAAAAAAAAAAAAAAAAAAAAAABAnNPAAAAAAAD2scAAAAAAAAA+wAAAAAAAAAAAAAAAAAAAAAAAAAAAAFCJwAAAAAAAAAAAAAAAAADAecAAAAAAAAAAAAAAAAAAAAAAAAAAAABcnsAAAAAAAABIwAAAAAAAAAAAAAAAAAAAAAAAAAAAAAAAAAAAAAAAAAAAAAAAAAAAAAAAAAAAAAAAAAAAAAAAAAAAAAAAAAAAAAAAAAAAAAAAAAAAAAAAAAAAAAAAAAAAAAAAAAAAAAAAAAAAAAAAYIHAAAAAAAAAAAAAAAAAAI/KwAAAAADA0OXAAAAAAEBR18AAAAAAAHCnwAAAAAAAEHfAAAAAAIAqysAAAAAAQL/WwAAAAAAAOL7AAAAAAIAt1sAAAAAAAFLUwAAAAAAAE9fAAAAAAIBWyMAAAAAAgKrRwAAAAACAO9fAAAAAAIDi1MAAAAAAwObSwAAAAAAAP8bAAAAAAADe78AAAAAAAB6wwAAAAAAAAAAAAAAAAADglcAAAAAAANLJwAAAAACArNjAAAAAAIBC4MAAAAAAgJzbwAAAAABAw9DAAAAAAACgpcAAAAAAAOyxwAAAAADAq9PAAAAAAABW38AAAAAAIAbhwAAAAACArNjAAAAAAIBD1MAAAAAAQPbdwAAAAAAAhJ/AAAAAAICM1sAAAAAAAN7vwAAAAAAAP8bAAAAAAMDm0sAAAAAAgOLUwAAAAACAO9fAAAAAAICq0cAAAAAAAOTTwAAAAABgbuLAAAAAAABS1MAAAAAAAFLYwAAAAAAAOL7AAAAAAOCz5MAAAAAAwHPUwAAAAADAvdnAAAAAAABqsMAAAAAAQHfZwAAAAADA0OXAAAAAAAA94sAAAAAAgLfcwAAAAAAAtdTAAAAAAGAD/MAAAAAAAASUwAAAAACAA9rAAAAAAABKo8AAAAAAAAAAAAAAAAAAPqXAAAAAAMCn28AAAAAAABG5wAAAAAAAJMDAAAAAAIAaxcAAAAAAAAAAAAAAAAAA+JHAAAAAAADQjsAAAAAAQFbUwAAAAAAA/KrAAAAAAICdxcAAAAAAAAO5wAAAAAAAAAAAAAAAAAAskcAAAAAAAABOwAAAAAAAAAAAAAAAAAAAPsAAAAAAQCHYwAAAAABAjuTAAAAAAIAtz8AAAAAAAAAAAA==\",\"dtype\":\"float64\",\"order\":\"little\",\"shape\":[110]}},\"selected\":{\"id\":\"7429\"},\"selection_policy\":{\"id\":\"7463\"}},\"id\":\"7428\",\"type\":\"ColumnDataSource\"},{\"attributes\":{\"data_source\":{\"id\":\"7506\"},\"glyph\":{\"id\":\"7509\"},\"hover_glyph\":null,\"muted_glyph\":{\"id\":\"7511\"},\"nonselection_glyph\":{\"id\":\"7510\"},\"selection_glyph\":{\"id\":\"7547\"},\"view\":{\"id\":\"7513\"}},\"id\":\"7512\",\"type\":\"GlyphRenderer\"},{\"attributes\":{\"num_minor_ticks\":5,\"tickers\":[{\"id\":\"7340\"},{\"id\":\"7341\"},{\"id\":\"7342\"},{\"id\":\"7343\"},{\"id\":\"7344\"},{\"id\":\"7345\"},{\"id\":\"7346\"},{\"id\":\"7347\"},{\"id\":\"7348\"},{\"id\":\"7349\"},{\"id\":\"7350\"},{\"id\":\"7351\"}]},\"id\":\"7300\",\"type\":\"DatetimeTicker\"},{\"attributes\":{\"fill_alpha\":0.2,\"fill_color\":\"#e5ae38\",\"line_alpha\":0.2,\"x\":{\"field\":\"x\"},\"y\":{\"field\":\"y\"}},\"id\":\"7397\",\"type\":\"Patch\"},{\"attributes\":{\"days\":[1,4,7,10,13,16,19,22,25,28]},\"id\":\"7344\",\"type\":\"DaysTicker\"},{\"attributes\":{\"text_color\":\"black\",\"text_font_size\":\"12pt\"},\"id\":\"7291\",\"type\":\"Title\"},{\"attributes\":{},\"id\":\"7393\",\"type\":\"Selection\"},{\"attributes\":{},\"id\":\"7429\",\"type\":\"Selection\"},{\"attributes\":{},\"id\":\"7463\",\"type\":\"UnionRenderers\"},{\"attributes\":{\"source\":{\"id\":\"7506\"}},\"id\":\"7513\",\"type\":\"CDSView\"},{\"attributes\":{\"data\":{\"x\":{\"__ndarray__\":\"AADAtvKcd0IAAIAcRZ13QgAAQIKXnXdCAAAA6Omdd0IAAMBNPJ53QgAAgLOOnndCAABAGeGed0IAAAB/M593QgAAwOSFn3dCAACAStifd0IAAECwKqB3QgAAABZ9oHdCAADAe8+gd0IAAIDhIaF3QgAAQEd0oXdCAAAArcahd0IAAMASGaJ3QgAAgHhrondCAABA3r2id0IAAABEEKN3QgAAwKlio3dCAACAD7Wjd0IAAEB1B6R3QgAAANtZpHdCAADAQKykd0IAAICm/qR3QgAAQAxRpXdCAAAAcqOld0IAAMDX9aV3QgAAgD1IpndCAABAo5qmd0IAAAAJ7aZ3QgAAwG4/p3dCAACA1JGnd0IAAEA65Kd3QgAAAKA2qHdCAADABYmod0IAAIBr26h3QgAAQNEtqXdCAAAAN4Cpd0IAAMCc0ql3QgAAgAIlqndCAABAaHeqd0IAAADOyap3QgAAwDMcq3dCAACAmW6rd0IAAED/wKt3QgAAAGUTrHdCAADAymWsd0IAAIAwuKx3QgAAQJYKrXdCAAAA/Fytd0IAAMBhr613QgAAgMcBrndCAABALVSud0IAAEAtVK53QgAAgMcBrndCAADAYa+td0IAAAD8XK13QgAAQJYKrXdCAACAMLisd0IAAMDKZax3QgAAAGUTrHdCAABA/8Crd0IAAICZbqt3QgAAwDMcq3dCAAAAzsmqd0IAAEBod6p3QgAAgAIlqndCAADAnNKpd0IAAAA3gKl3QgAAQNEtqXdCAACAa9uod0IAAMAFiah3QgAAAKA2qHdCAABAOuSnd0IAAIDUkad3QgAAwG4/p3dCAAAACe2md0IAAECjmqZ3QgAAgD1IpndCAADA1/Wld0IAAAByo6V3QgAAQAxRpXdCAACApv6kd0IAAMBArKR3QgAAANtZpHdCAABAdQekd0IAAIAPtaN3QgAAwKlio3dCAAAARBCjd0IAAEDevaJ3QgAAgHhrondCAADAEhmid0IAAACtxqF3QgAAQEd0oXdCAACA4SGhd0IAAMB7z6B3QgAAABZ9oHdCAABAsCqgd0IAAIBK2J93QgAAwOSFn3dCAAAAfzOfd0IAAEAZ4Z53QgAAgLOOnndCAADATTyed0IAAADo6Z13QgAAQIKXnXdCAACAHEWdd0IAAMC28px3Qg==\",\"dtype\":\"float64\",\"order\":\"little\",\"shape\":[110]},\"y\":{\"__ndarray__\":\"AAAAAAAAAAAAAAAAgC3PwAAAAABAjuTAAAAAAEAh2MAAAAAAAAA+wAAAAAAAAAAAAAAAAAAATsAAAAAAACyRwAAAAAAAAAAAAAAAAAADucAAAAAAgJ3FwAAAAAAA/KrAAAAAAEBW1MAAAAAAANCOwAAAAAAA+JHAAAAAAAAAAAAAAAAAgBrFwAAAAAAAJMDAAAAAAAARucAAAAAAwKfbwAAAAAAAPqXAAAAAAAAAAAAAAAAAAEqjwAAAAACAA9rAAAAAAAAElMAAAAAAYAP8wAAAAAAAtdTAAAAAAIC33MAAAAAAAD3iwAAAAADA0OXAAAAAAEB32cAAAAAAAGqwwAAAAADAvdnAAAAAAMBz1MAAAAAA4LPkwAAAAAAAOL7AAAAAAABS2MAAAAAAAFLUwAAAAABgbuLAAAAAAADk08AAAAAAgKrRwAAAAACAO9fAAAAAAIDi1MAAAAAAwObSwAAAAAAAP8bAAAAAAADe78AAAAAAgIzWwAAAAAAAhJ/AAAAAAED23cAAAAAAgEPUwAAAAACArNjAAAAAACAG4cAAAAAAAFbfwAAAAADAq9PAAAAAAADsscAAAAAAAOyxwAAAAADAq9PAAAAAAABW38AAAAAAIAbhwAAAAACArNjAAAAAAIBD1MAAAAAAQPbdwAAAAAAARdHAAAAAAAC04sAAAAAAAN7vwAAAAAAAP8bAAAAAAMDm0sAAAAAAgOLUwAAAAACAO9fAAAAAAICq0cAAAAAAAOTTwAAAAABgbuLAAAAAAABS1MAAAAAAAFLYwAAAAAAAOL7AAAAAAOCz5MAAAAAAwHPUwAAAAADAvdnAAAAAAABqsMAAAAAAIDTiwAAAAADA0OXAAAAAAGCN5sAAAAAAQAjjwAAAAAAAtdTAAAAAABDuAMEAAAAAAGqowAAAAADADeHAAAAAAECI4sAAAAAAwOrSwAAAAABgouLAAAAAAGCS4cAAAAAAAMXgwAAAAABAf9bAAAAAAEBt5sAAAAAAQDDdwAAAAABAGNbAAAAAAIAA1cAAAAAAgE/cwAAAAAAA/KrAAAAAAECN0cAAAAAAgJ7dwAAAAAAAEJHAAAAAAAC8m8AAAAAAgNPSwAAAAAAAtLXAAAAAAEC43cAAAAAAwMvswAAAAADAs+TAAAAAAMAz1cAAAAAAAAAAAA==\",\"dtype\":\"float64\",\"order\":\"little\",\"shape\":[110]}},\"selected\":{\"id\":\"7467\"},\"selection_policy\":{\"id\":\"7503\"}},\"id\":\"7466\",\"type\":\"ColumnDataSource\"},{\"attributes\":{\"mantissas\":[1,2,5],\"max_interval\":500.0,\"num_minor_ticks\":0},\"id\":\"7340\",\"type\":\"AdaptiveTicker\"},{\"attributes\":{},\"id\":\"7320\",\"type\":\"AllLabels\"},{\"attributes\":{\"fill_alpha\":0.2,\"fill_color\":\"#30a2da\",\"line_alpha\":0.2,\"x\":{\"field\":\"x\"},\"y\":{\"field\":\"y\"}},\"id\":\"7330\",\"type\":\"Patch\"},{\"attributes\":{\"fill_color\":\"#17becf\",\"x\":{\"field\":\"x\"},\"y\":{\"field\":\"y\"}},\"id\":\"7509\",\"type\":\"Patch\"},{\"attributes\":{},\"id\":\"7507\",\"type\":\"Selection\"},{\"attributes\":{\"label\":{\"value\":\"60\"},\"renderers\":[{\"id\":\"7512\"}]},\"id\":\"7546\",\"type\":\"LegendItem\"},{\"attributes\":{\"axis_label\":\"day\",\"formatter\":{\"id\":\"7321\"},\"major_label_policy\":{\"id\":\"7320\"},\"ticker\":{\"id\":\"7300\"}},\"id\":\"7299\",\"type\":\"DatetimeAxis\"},{\"attributes\":{\"fill_alpha\":1,\"fill_color\":\"#6d904f\",\"line_alpha\":1,\"x\":{\"field\":\"x\"},\"y\":{\"field\":\"y\"}},\"id\":\"7432\",\"type\":\"Patch\"},{\"attributes\":{\"children\":[{\"id\":\"7287\"},{\"id\":\"7290\"},{\"id\":\"7836\"}],\"margin\":[0,0,0,0],\"name\":\"Row06435\",\"tags\":[\"embedded\"]},\"id\":\"7286\",\"type\":\"Row\"},{\"attributes\":{\"active_multi\":null,\"tools\":[{\"id\":\"7307\"},{\"id\":\"7308\"},{\"id\":\"7309\"},{\"id\":\"7310\"},{\"id\":\"7311\"}]},\"id\":\"7313\",\"type\":\"Toolbar\"},{\"attributes\":{\"days\":[1,8,15,22]},\"id\":\"7345\",\"type\":\"DaysTicker\"},{\"attributes\":{\"margin\":[5,5,5,5],\"name\":\"HSpacer06439\",\"sizing_mode\":\"stretch_width\"},\"id\":\"7287\",\"type\":\"Spacer\"},{\"attributes\":{\"bottom_units\":\"screen\",\"fill_alpha\":0.5,\"fill_color\":\"lightgrey\",\"left_units\":\"screen\",\"level\":\"overlay\",\"line_alpha\":1.0,\"line_color\":\"black\",\"line_dash\":[4,4],\"line_width\":2,\"right_units\":\"screen\",\"syncable\":false,\"top_units\":\"screen\"},\"id\":\"7312\",\"type\":\"BoxAnnotation\"},{\"attributes\":{},\"id\":\"7304\",\"type\":\"BasicTicker\"},{\"attributes\":{\"axis\":{\"id\":\"7303\"},\"dimension\":1,\"grid_line_color\":null,\"ticker\":null},\"id\":\"7306\",\"type\":\"Grid\"},{\"attributes\":{\"data\":{\"x\":{\"__ndarray__\":\"AADAtvKcd0IAAIAcRZ13QgAAQIKXnXdCAAAA6Omdd0IAAMBNPJ53QgAAgLOOnndCAABAGeGed0IAAAB/M593QgAAwOSFn3dCAACAStifd0IAAECwKqB3QgAAABZ9oHdCAADAe8+gd0IAAIDhIaF3QgAAQEd0oXdCAAAArcahd0IAAMASGaJ3QgAAgHhrondCAABA3r2id0IAAABEEKN3QgAAwKlio3dCAACAD7Wjd0IAAEB1B6R3QgAAANtZpHdCAADAQKykd0IAAICm/qR3QgAAQAxRpXdCAAAAcqOld0IAAMDX9aV3QgAAgD1IpndCAABAo5qmd0IAAAAJ7aZ3QgAAwG4/p3dCAACA1JGnd0IAAEA65Kd3QgAAAKA2qHdCAADABYmod0IAAIBr26h3QgAAQNEtqXdCAAAAN4Cpd0IAAMCc0ql3QgAAgAIlqndCAABAaHeqd0IAAADOyap3QgAAwDMcq3dCAACAmW6rd0IAAED/wKt3QgAAAGUTrHdCAADAymWsd0IAAIAwuKx3QgAAQJYKrXdCAAAA/Fytd0IAAMBhr613QgAAgMcBrndCAABALVSud0IAAEAtVK53QgAAgMcBrndCAADAYa+td0IAAAD8XK13QgAAQJYKrXdCAACAMLisd0IAAMDKZax3QgAAAGUTrHdCAABA/8Crd0IAAICZbqt3QgAAwDMcq3dCAAAAzsmqd0IAAEBod6p3QgAAgAIlqndCAADAnNKpd0IAAAA3gKl3QgAAQNEtqXdCAACAa9uod0IAAMAFiah3QgAAAKA2qHdCAABAOuSnd0IAAIDUkad3QgAAwG4/p3dCAAAACe2md0IAAECjmqZ3QgAAgD1IpndCAADA1/Wld0IAAAByo6V3QgAAQAxRpXdCAACApv6kd0IAAMBArKR3QgAAANtZpHdCAABAdQekd0IAAIAPtaN3QgAAwKlio3dCAAAARBCjd0IAAEDevaJ3QgAAgHhrondCAADAEhmid0IAAACtxqF3QgAAQEd0oXdCAACA4SGhd0IAAMB7z6B3QgAAABZ9oHdCAABAsCqgd0IAAIBK2J93QgAAwOSFn3dCAAAAfzOfd0IAAEAZ4Z53QgAAgLOOnndCAADATTyed0IAAADo6Z13QgAAQIKXnXdCAACAHEWdd0IAAMC28px3Qg==\",\"dtype\":\"float64\",\"order\":\"little\",\"shape\":[110]},\"y\":{\"__ndarray__\":\"AAAAAAAAAAAAAAAAAAAAAAAAAAAAAAAAAAAAAAAAAAAAAAAAAAAAAAAAAAAAAAAAAAAAAAAAAAAAAAAAAAAAAAAAAAAAAAAAAAAAAAAAAAAAAAAAAAAAAAAAAAAAAAAAAAAAAAAAAAAAAAAAAAAAAAAAAAAAAAAAAAAAAAAAAAAAAAAAAAAAAAAAAAAAAAAAAAAAAAAAAAAAAAAAAAAAAAAAAAAAAAAAAAAAAAAAAAAAAAAAAAAAAAAAAAAAAAAAAAAAAAAAAAAAAAAAAAAAAAAAAAAAAAAAAAAAAAAAAAAAAAAAAAAAAAAAAAAAAAAAAAAAAAAAAAAAAAAAAAAAAAAAAAAAAAAAAAAAAAAAAAAAAAAAAAAAAAAAAAAAAAAAAAAAAAAAAAAAAAAAAAAAAAAAAAAAAAAAAAAAAAAAAAAAAAAAAAAAAAAAAAAAAAAAAAAAAAAAAAAAAAAAAAAAAAAAAAAAAAAAAAAAAAAAAAAAAAAAAAAAAAAAAAAAAAAAAAAAAAAAAAAAAAAAAAAAAAAAAAAAAAAAAAAAAAAAAAAAAAAAAAAAAAAAAAAAAAAAAAAAAAAAAAAAAAAAAAAAAAAAAAAAAAAAAAAAAAAAAAAAAAAAAAAAAAAAAAAAAAAAAAAAAAAAAAAAAAAAAAAAAAAAAAAAAAAAAAAAAAAAAAAAAAAAAAAAAAAAAAAAAAAAAAAAAAAAQsAAAAAAAAAAAAAAAAAAAAAAAAAAAAAAAAAAAAAAAAAAAAAAAAAAAAAAAAAAAAAAAAAAAAAAAAAAAAAAAAAAAAAAAAAAAAAAAAAAAAAAAAAAAAAAAAAAAAAAAAAAAAAAAAAAAAAAAAAAAAAAAAAAAAAAAAAAAAAALsAAAAAAAAAAAAAAAAAAAAAAAAAAAAAAAAAAAAAAAAAAAAAAAAAAAAAAAAAAAAAAAAAAAAAAAAAAAAAAAAAAAAAAAAAAAAAAAAAAAAAAAAAAAAAAAAAAAAAAAAAAAAAAAAAAAAAAAAAAAAAAAAAAAAAAAAAAAAAAAAAAAAAAAAAAAAAAAAAAAAAAAAAAAAAAAAAAAAAAAAAAAAAAAAAAAAAAAAAAAABQicAAAAAAAAAAAAAAAAAAAAAAAAAAAAAAAAAAAAAAAAAAAAAAAAAAAAAAAAAAAAAAAAAAAAAAAAAAAA==\",\"dtype\":\"float64\",\"order\":\"little\",\"shape\":[110]}},\"selected\":{\"id\":\"7326\"},\"selection_policy\":{\"id\":\"7354\"}},\"id\":\"7325\",\"type\":\"ColumnDataSource\"},{\"attributes\":{\"fill_alpha\":1,\"fill_color\":\"#fc4f30\",\"line_alpha\":1,\"x\":{\"field\":\"x\"},\"y\":{\"field\":\"y\"}},\"id\":\"7362\",\"type\":\"Patch\"},{\"attributes\":{\"label\":{\"value\":\"45\"},\"renderers\":[{\"id\":\"7398\"}]},\"id\":\"7426\",\"type\":\"LegendItem\"},{\"attributes\":{},\"id\":\"7389\",\"type\":\"UnionRenderers\"},{\"attributes\":{},\"id\":\"7354\",\"type\":\"UnionRenderers\"},{\"attributes\":{\"overlay\":{\"id\":\"7312\"}},\"id\":\"7310\",\"type\":\"BoxZoomTool\"},{\"attributes\":{\"fill_alpha\":1,\"fill_color\":\"#30a2da\",\"line_alpha\":1,\"x\":{\"field\":\"x\"},\"y\":{\"field\":\"y\"}},\"id\":\"7329\",\"type\":\"Patch\"},{\"attributes\":{},\"id\":\"7307\",\"type\":\"SaveTool\"},{\"attributes\":{\"months\":[0,4,8]},\"id\":\"7349\",\"type\":\"MonthsTicker\"},{\"attributes\":{\"fill_alpha\":1,\"fill_color\":\"#e5ae38\",\"line_alpha\":1,\"x\":{\"field\":\"x\"},\"y\":{\"field\":\"y\"}},\"id\":\"7396\",\"type\":\"Patch\"},{\"attributes\":{\"source\":{\"id\":\"7325\"}},\"id\":\"7332\",\"type\":\"CDSView\"},{\"attributes\":{\"axis\":{\"id\":\"7299\"},\"grid_line_color\":null,\"ticker\":null},\"id\":\"7302\",\"type\":\"Grid\"},{\"attributes\":{},\"id\":\"7467\",\"type\":\"Selection\"}],\"root_ids\":[\"7286\"]},\"title\":\"Bokeh Application\",\"version\":\"2.3.3\"}};\n",
       "    var render_items = [{\"docid\":\"663b339b-8342-46c6-84ca-25e42a4beadd\",\"root_ids\":[\"7286\"],\"roots\":{\"7286\":\"348724df-90f9-4371-af7d-9d65e89383a3\"}}];\n",
       "    root.Bokeh.embed.embed_items_notebook(docs_json, render_items);\n",
       "  }\n",
       "  if (root.Bokeh !== undefined && root.Bokeh.Panel !== undefined) {\n",
       "    embed_document(root);\n",
       "  } else {\n",
       "    var attempts = 0;\n",
       "    var timer = setInterval(function(root) {\n",
       "      if (root.Bokeh !== undefined && root.Bokeh.Panel !== undefined) {\n",
       "        clearInterval(timer);\n",
       "        embed_document(root);\n",
       "      } else if (document.readyState == \"complete\") {\n",
       "        attempts++;\n",
       "        if (attempts > 200) {\n",
       "          clearInterval(timer);\n",
       "          console.log(\"Bokeh: ERROR: Unable to run BokehJS code because BokehJS library is missing\");\n",
       "        }\n",
       "      }\n",
       "    }, 25, root)\n",
       "  }\n",
       "})(window);</script>"
      ],
      "text/plain": [
       ":NdOverlay   [price]\n",
       "   :Area   [day]   (totalqty,Baseline)"
      ]
     },
     "execution_count": 243,
     "metadata": {
      "application/vnd.holoviews_exec.v0+json": {
       "id": "7286"
      }
     },
     "output_type": "execute_result"
    }
   ],
   "source": [
    "hv.Area.stack(hv.Area(concatdf,kdims=['day'],vdims=['totalqty','price']).groupby('price').overlay()).opts(width=600)"
   ]
  },
  {
   "attachments": {
    "f56b138c-dfda-47ea-87b2-09992f4b3eaa.png": {
     "image/png": "[encoded data removed]"
    }
   },
   "cell_type": "markdown",
   "id": "a9b65d13-9f02-43a4-874f-086677befdc6",
   "metadata": {},
   "source": [
    "![image.png](attachment:f56b138c-dfda-47ea-87b2-09992f4b3eaa.png)"
   ]
  },
  {
   "cell_type": "markdown",
   "id": "0f65f756-e94f-4c30-946b-e53ccd489081",
   "metadata": {
    "jp-MarkdownHeadingCollapsed": true,
    "tags": []
   },
   "source": [
    "What does this all mean? A few ideas:\n",
    "1. The price drop is due to decreased demand, not competition\n",
    "2. The game is dying (Even a price drop does not return the volume sold to its previous level) (becase less people are playing)"
   ]
  },
  {
   "cell_type": "markdown",
   "id": "2c6990a1-9224-49b9-bdfd-56fccdb59243",
   "metadata": {},
   "source": [
    "# Future work?"
   ]
  },
  {
   "cell_type": "markdown",
   "id": "f51f8d9a-cedd-4763-9e63-658b3ae1ff49",
   "metadata": {},
   "source": [
    "* Plotting an actual price-demand curve and seeing how much slope it has\n",
    "* Market manipulation (buying all of an item and then re-selling it at a profit) is a popular move - is it worth it? Or will the price get driven down too quickly?\n",
    "* More people play the game on weekends than weekdays - does this have an affect on the market?"
   ]
  },
  {
   "cell_type": "code",
   "execution_count": null,
   "id": "20c16d44-2a4e-4ad4-aa6f-0542eb831d9d",
   "metadata": {},
   "outputs": [],
   "source": []
  }
 ],
 "metadata": {
  "kernelspec": {
   "display_name": "Python 3 (ipykernel)",
   "language": "python",
   "name": "python3"
  },
  "language_info": {
   "codemirror_mode": {
    "name": "ipython",
    "version": 3
   },
   "file_extension": ".py",
   "mimetype": "text/x-python",
   "name": "python",
   "nbconvert_exporter": "python",
   "pygments_lexer": "ipython3",
   "version": "3.9.5"
  }
 },
 "nbformat": 4,
 "nbformat_minor": 5
}
